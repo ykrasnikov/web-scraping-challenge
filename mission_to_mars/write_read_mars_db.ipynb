{
 "cells": [
  {
   "cell_type": "code",
   "execution_count": 66,
   "id": "affected-hormone",
   "metadata": {},
   "outputs": [],
   "source": [
    "import pymongo\n",
    "from scrape_mars import scrape\n"
   ]
  },
  {
   "cell_type": "code",
   "execution_count": 67,
   "id": "atlantic-crime",
   "metadata": {},
   "outputs": [],
   "source": [
    "####################function \n",
    "def mars_insert(page):\n",
    "    \"\"\"insert dictionary into mongodb\"\"\"\n",
    "# establishing connection to mongo instance\n",
    "    conn = 'mongodb://localhost:27017'\n",
    "    client = pymongo.MongoClient(conn)\n",
    "    #client = pymongo.MongoClient('localhost', 27017)\n",
    "    # Define database and collection\n",
    "    db = client.mars_news_db\n",
    "    #db=client['mars_news_db']\n",
    "    collection = db.page_data\n",
    "    #collection=db['page_data']\n",
    "    collection.insert_one(page)\n",
    "    return None # pass"
   ]
  },
  {
   "cell_type": "code",
   "execution_count": 68,
   "id": "unlike-artist",
   "metadata": {},
   "outputs": [],
   "source": [
    " ####################function \n",
    "def mars_search():\n",
    "    \"\"\"search and return latest record from mongodb\"\"\"\n",
    "# establishing connection to mongo instance\n",
    "    conn = 'mongodb://localhost:27017'\n",
    "    client = pymongo.MongoClient(conn)\n",
    "    #client = pymongo.MongoClient('localhost', 27017)\n",
    "    # Define database and collection\n",
    "    db = client.mars_news_db\n",
    "    collection = db.page_data\n",
    "    record = collection.find().sort('_id',-1).limit(1)[0]\n",
    "    return record"
   ]
  },
  {
   "cell_type": "code",
   "execution_count": 70,
   "id": "amended-prison",
   "metadata": {},
   "outputs": [
    {
     "data": {
      "text/plain": [
       "\"Sensors Prepare to Collect Data as Perseverance Enters Mars' Atmosphere\""
      ]
     },
     "execution_count": 70,
     "metadata": {},
     "output_type": "execute_result"
    }
   ],
   "source": [
    "dict=mars_search()\n",
    "dict['news_title']"
   ]
  },
  {
   "cell_type": "code",
   "execution_count": 50,
   "id": "dramatic-charge",
   "metadata": {},
   "outputs": [
    {
     "data": {
      "text/plain": [
       "<pymongo.results.InsertOneResult at 0x1879541a7c0>"
      ]
     },
     "execution_count": 50,
     "metadata": {},
     "output_type": "execute_result"
    }
   ],
   "source": []
  },
  {
   "cell_type": "code",
   "execution_count": 80,
   "id": "announced-lucas",
   "metadata": {},
   "outputs": [
    {
     "ename": "SyntaxError",
     "evalue": "invalid syntax (<ipython-input-80-c786e9f37b37>, line 6)",
     "output_type": "error",
     "traceback": [
      "\u001b[1;36m  File \u001b[1;32m\"<ipython-input-80-c786e9f37b37>\"\u001b[1;36m, line \u001b[1;32m6\u001b[0m\n\u001b[1;33m    except:\u001b[0m\n\u001b[1;37m    ^\u001b[0m\n\u001b[1;31mSyntaxError\u001b[0m\u001b[1;31m:\u001b[0m invalid syntax\n"
     ]
    }
   ],
   "source": [
    "try:\n",
    "    record = collection.find()\n",
    "    print(len(record)\n",
    "    # record.sort('_id',-1).limit(1)[0]\n",
    "    # print(record)[0]\n",
    "except:\n",
    "    print('call scrape')\n",
    "    "
   ]
  },
  {
   "cell_type": "code",
   "execution_count": 87,
   "id": "legislative-application",
   "metadata": {},
   "outputs": [
    {
     "ename": "NameError",
     "evalue": "name 'count_documents' is not defined",
     "output_type": "error",
     "traceback": [
      "\u001b[1;31m---------------------------------------------------------------------------\u001b[0m",
      "\u001b[1;31mNameError\u001b[0m                                 Traceback (most recent call last)",
      "\u001b[1;32m<ipython-input-87-15a50838351a>\u001b[0m in \u001b[0;36m<module>\u001b[1;34m\u001b[0m\n\u001b[1;32m----> 1\u001b[1;33m \u001b[0mrecord_count\u001b[0m\u001b[1;33m=\u001b[0m\u001b[0mcount_documents\u001b[0m\u001b[1;33m(\u001b[0m\u001b[0mcollection\u001b[0m\u001b[1;33m)\u001b[0m\u001b[1;33m\u001b[0m\u001b[1;33m\u001b[0m\u001b[0m\n\u001b[0m\u001b[0;32m      2\u001b[0m \u001b[1;32mif\u001b[0m \u001b[0mrecord_count\u001b[0m \u001b[1;33m==\u001b[0m \u001b[1;36m0\u001b[0m\u001b[1;33m:\u001b[0m\u001b[1;33m\u001b[0m\u001b[1;33m\u001b[0m\u001b[0m\n\u001b[0;32m      3\u001b[0m     \u001b[0mprint\u001b[0m\u001b[1;33m(\u001b[0m\u001b[1;34m'call scrape'\u001b[0m\u001b[1;33m)\u001b[0m\u001b[1;33m\u001b[0m\u001b[1;33m\u001b[0m\u001b[0m\n\u001b[0;32m      4\u001b[0m \u001b[1;32melse\u001b[0m\u001b[1;33m:\u001b[0m\u001b[1;33m\u001b[0m\u001b[1;33m\u001b[0m\u001b[0m\n\u001b[0;32m      5\u001b[0m     \u001b[0mrecord\u001b[0m\u001b[1;33m=\u001b[0m\u001b[0mrecord\u001b[0m\u001b[1;33m.\u001b[0m\u001b[0msort\u001b[0m\u001b[1;33m(\u001b[0m\u001b[1;34m'_id'\u001b[0m\u001b[1;33m,\u001b[0m\u001b[1;33m-\u001b[0m\u001b[1;36m1\u001b[0m\u001b[1;33m)\u001b[0m\u001b[1;33m.\u001b[0m\u001b[0mlimit\u001b[0m\u001b[1;33m(\u001b[0m\u001b[1;36m1\u001b[0m\u001b[1;33m)\u001b[0m\u001b[1;33m[\u001b[0m\u001b[1;36m0\u001b[0m\u001b[1;33m]\u001b[0m\u001b[1;33m\u001b[0m\u001b[1;33m\u001b[0m\u001b[0m\n",
      "\u001b[1;31mNameError\u001b[0m: name 'count_documents' is not defined"
     ]
    }
   ],
   "source": [
    "record_count=count_documents(collection)\n",
    "if record_count == 0:\n",
    "    print('call scrape')\n",
    "else:\n",
    "    record=record.sort('_id',-1).limit(1)[0]\n",
    "    print(record)"
   ]
  },
  {
   "cell_type": "code",
   "execution_count": 82,
   "id": "false-omega",
   "metadata": {},
   "outputs": [
    {
     "ename": "NameError",
     "evalue": "name 'count' is not defined",
     "output_type": "error",
     "traceback": [
      "\u001b[1;31m---------------------------------------------------------------------------\u001b[0m",
      "\u001b[1;31mNameError\u001b[0m                                 Traceback (most recent call last)",
      "\u001b[1;32m<ipython-input-82-4eddce93e869>\u001b[0m in \u001b[0;36m<module>\u001b[1;34m\u001b[0m\n\u001b[1;32m----> 1\u001b[1;33m \u001b[0mcount\u001b[0m\u001b[1;33m(\u001b[0m\u001b[0mrecord\u001b[0m\u001b[1;33m)\u001b[0m\u001b[1;33m\u001b[0m\u001b[1;33m\u001b[0m\u001b[0m\n\u001b[0m",
      "\u001b[1;31mNameError\u001b[0m: name 'count' is not defined"
     ]
    }
   ],
   "source": [
    "count(record)"
   ]
  },
  {
   "cell_type": "code",
   "execution_count": null,
   "id": "musical-parade",
   "metadata": {},
   "outputs": [],
   "source": [
    "record = collection.find().sort('_id',-1).limit(1)[0]\n",
    "    record"
   ]
  }
 ],
 "metadata": {
  "kernelspec": {
   "display_name": "Python 3",
   "language": "python",
   "name": "python3"
  },
  "language_info": {
   "codemirror_mode": {
    "name": "ipython",
    "version": 3
   },
   "file_extension": ".py",
   "mimetype": "text/x-python",
   "name": "python",
   "nbconvert_exporter": "python",
   "pygments_lexer": "ipython3",
   "version": "3.8.5"
  }
 },
 "nbformat": 4,
 "nbformat_minor": 5
}
